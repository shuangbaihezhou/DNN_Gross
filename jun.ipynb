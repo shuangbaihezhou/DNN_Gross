{
 "cells": [
  {
   "cell_type": "code",
   "execution_count": 1,
   "metadata": {
    "ExecuteTime": {
     "end_time": "2020-08-17T07:24:40.951356Z",
     "start_time": "2020-08-17T07:24:40.919442Z"
    },
    "scrolled": true
   },
   "outputs": [],
   "source": [
    "# 导入相关模块\n",
    "import pandas as pd\n",
    "from tensorflow.keras import metrics\n",
    "import tensorflow.keras.backend as K\n",
    "from tensorflow import keras\n",
    "from tensorflow.keras.models import Sequential\n",
    "from tensorflow.keras.layers import Dense, Activation, Dropout\n",
    "from tensorflow.keras.optimizers import Adam\n",
    "import tensorflow as tf\n",
    "import numpy as np\n",
    "import os\n",
    "from skimage import io\n",
    "from tqdm import tqdm"
   ]
  },
  {
   "cell_type": "code",
   "execution_count": 10,
   "metadata": {},
   "outputs": [],
   "source": [
    "# # 设置GPU\n",
    "# gpus = tf.config.experimental.list_physical_devices('GPU')\n",
    "# tf.config.experimental.set_visible_devices(gpus[0], 'GPU')\n",
    "# for gpu in gpus:\n",
    "#     tf.config.experimental.set_memory_growth(gpu, True)\n",
    "# print(len(gpus))\n",
    "# logical_gpus = tf.config.experimental.list_logical_devices('GPU')\n",
    "# print(len(logical_gpus))"
   ]
  },
  {
   "cell_type": "code",
   "execution_count": 11,
   "metadata": {
    "ExecuteTime": {
     "end_time": "2020-08-17T06:57:14.071545Z",
     "start_time": "2020-08-17T06:57:14.058580Z"
    }
   },
   "outputs": [],
   "source": [
    "#读取数据\n",
    "jan_train = pd.read_csv('./TrainingNew/trainingJunNum1.csv')"
   ]
  },
  {
   "cell_type": "code",
   "execution_count": 12,
   "metadata": {
    "ExecuteTime": {
     "end_time": "2020-08-17T03:55:48.955376Z",
     "start_time": "2020-08-17T03:55:48.937425Z"
    }
   },
   "outputs": [],
   "source": [
    "#数据归一化\n",
    "jan_train_x = pd.concat([jan_train.iloc[:,1:8]/jan_train.iloc[:,1:8].max(),\n",
    "                         jan_train.iloc[:,9:12]/jan_train.iloc[:,9:12].max()],axis=1,join='inner').values\n",
    "jan_train_y = jan_train.landcover.values"
   ]
  },
  {
   "cell_type": "code",
   "execution_count": 13,
   "metadata": {
    "ExecuteTime": {
     "end_time": "2020-08-17T03:50:21.921176Z",
     "start_time": "2020-08-17T03:50:21.910205Z"
    }
   },
   "outputs": [
    {
     "name": "stdout",
     "output_type": "stream",
     "text": [
      "960 240\n"
     ]
    }
   ],
   "source": [
    "#划分数据集\n",
    "from sklearn.model_selection import train_test_split\n",
    "X_train,X_test,Y_train,Y_test = train_test_split(jan_train_x, jan_train_y, test_size=0.2, random_state=3)\n",
    "print(len(X_train), len(X_test))"
   ]
  },
  {
   "cell_type": "code",
   "execution_count": 14,
   "metadata": {
    "ExecuteTime": {
     "end_time": "2020-08-17T07:21:04.425655Z",
     "start_time": "2020-08-17T07:21:04.416679Z"
    },
    "code_folding": []
   },
   "outputs": [],
   "source": [
    "#设置训练模型相关内容，详情见 https://keras.io/zh/callbacks/\n",
    "logdir = os.path.join(\"model\")\n",
    "if not os.path.exists(logdir):\n",
    "    os.mkdir(logdir)\n",
    "output_model_file = os.path.join(logdir,\"model.h5\")\n",
    "\n",
    "callbacks = [\n",
    "    keras.callbacks.TensorBoard(logdir),\n",
    "    keras.callbacks.ModelCheckpoint(output_model_file,monitor='val_accuracy',save_best_only = True,save_weights_only = False),\n",
    "    keras.callbacks.EarlyStopping(monitor='val_accuracy', patience=100, min_delta=1e-7),\n",
    "]"
   ]
  },
  {
   "cell_type": "code",
   "execution_count": null,
   "metadata": {
    "ExecuteTime": {
     "end_time": "2020-08-17T03:57:14.589139Z",
     "start_time": "2020-08-17T03:57:14.583156Z"
    }
   },
   "outputs": [],
   "source": []
  },
  {
   "cell_type": "code",
   "execution_count": 15,
   "metadata": {
    "ExecuteTime": {
     "end_time": "2020-08-17T03:57:37.255760Z",
     "start_time": "2020-08-17T03:57:30.928485Z"
    },
    "scrolled": true
   },
   "outputs": [
    {
     "name": "stdout",
     "output_type": "stream",
     "text": [
      "Train on 960 samples, validate on 240 samples\n",
      "Epoch 1/100\n",
      "960/960 [==============================] - 1s 625us/sample - loss: 1.7682 - accuracy: 0.2167 - val_loss: 1.7169 - val_accuracy: 0.3417\n",
      "Epoch 2/100\n",
      "960/960 [==============================] - 0s 74us/sample - loss: 1.6910 - accuracy: 0.3990 - val_loss: 1.6494 - val_accuracy: 0.4958\n",
      "Epoch 3/100\n",
      "960/960 [==============================] - 0s 51us/sample - loss: 1.6109 - accuracy: 0.4646 - val_loss: 1.5693 - val_accuracy: 0.4958\n",
      "Epoch 4/100\n",
      "960/960 [==============================] - 0s 65us/sample - loss: 1.5241 - accuracy: 0.4958 - val_loss: 1.4764 - val_accuracy: 0.5125\n",
      "Epoch 5/100\n",
      "960/960 [==============================] - 0s 68us/sample - loss: 1.4314 - accuracy: 0.5271 - val_loss: 1.3661 - val_accuracy: 0.5583\n",
      "Epoch 6/100\n",
      "960/960 [==============================] - ETA: 0s - loss: 1.3680 - accuracy: 0.53 - 0s 68us/sample - loss: 1.3124 - accuracy: 0.5646 - val_loss: 1.2499 - val_accuracy: 0.5833\n",
      "Epoch 7/100\n",
      "960/960 [==============================] - 0s 68us/sample - loss: 1.2034 - accuracy: 0.5760 - val_loss: 1.1256 - val_accuracy: 0.6625\n",
      "Epoch 8/100\n",
      "960/960 [==============================] - 0s 76us/sample - loss: 1.0814 - accuracy: 0.6313 - val_loss: 1.0170 - val_accuracy: 0.7375\n",
      "Epoch 9/100\n",
      "960/960 [==============================] - 0s 64us/sample - loss: 0.9852 - accuracy: 0.6802 - val_loss: 0.9289 - val_accuracy: 0.8750\n",
      "Epoch 10/100\n",
      "960/960 [==============================] - 0s 42us/sample - loss: 0.9158 - accuracy: 0.6969 - val_loss: 0.8492 - val_accuracy: 0.8417\n",
      "Epoch 11/100\n",
      "960/960 [==============================] - 0s 63us/sample - loss: 0.8422 - accuracy: 0.7375 - val_loss: 0.7848 - val_accuracy: 0.8875\n",
      "Epoch 12/100\n",
      "960/960 [==============================] - 0s 61us/sample - loss: 0.7948 - accuracy: 0.7563 - val_loss: 0.7334 - val_accuracy: 0.8958\n",
      "Epoch 13/100\n",
      "960/960 [==============================] - 0s 45us/sample - loss: 0.7383 - accuracy: 0.7708 - val_loss: 0.6808 - val_accuracy: 0.8833\n",
      "Epoch 14/100\n",
      "960/960 [==============================] - 0s 62us/sample - loss: 0.6969 - accuracy: 0.7771 - val_loss: 0.6354 - val_accuracy: 0.9000\n",
      "Epoch 15/100\n",
      "960/960 [==============================] - 0s 44us/sample - loss: 0.6706 - accuracy: 0.7688 - val_loss: 0.5852 - val_accuracy: 0.9000\n",
      "Epoch 16/100\n",
      "960/960 [==============================] - 0s 44us/sample - loss: 0.5991 - accuracy: 0.8177 - val_loss: 0.5395 - val_accuracy: 0.9000\n",
      "Epoch 17/100\n",
      "960/960 [==============================] - 0s 42us/sample - loss: 0.5715 - accuracy: 0.8354 - val_loss: 0.5024 - val_accuracy: 0.8958\n",
      "Epoch 18/100\n",
      "960/960 [==============================] - 0s 68us/sample - loss: 0.5563 - accuracy: 0.7979 - val_loss: 0.4626 - val_accuracy: 0.9083\n",
      "Epoch 19/100\n",
      "960/960 [==============================] - 0s 61us/sample - loss: 0.5002 - accuracy: 0.8260 - val_loss: 0.4302 - val_accuracy: 0.9167\n",
      "Epoch 20/100\n",
      "960/960 [==============================] - 0s 46us/sample - loss: 0.4994 - accuracy: 0.8094 - val_loss: 0.4059 - val_accuracy: 0.9042\n",
      "Epoch 21/100\n",
      "960/960 [==============================] - 0s 48us/sample - loss: 0.4620 - accuracy: 0.8396 - val_loss: 0.3772 - val_accuracy: 0.9125\n",
      "Epoch 22/100\n",
      "960/960 [==============================] - 0s 62us/sample - loss: 0.4524 - accuracy: 0.8167 - val_loss: 0.3542 - val_accuracy: 0.9208\n",
      "Epoch 23/100\n",
      "960/960 [==============================] - 0s 62us/sample - loss: 0.4187 - accuracy: 0.8427 - val_loss: 0.3346 - val_accuracy: 0.9333\n",
      "Epoch 24/100\n",
      "960/960 [==============================] - 0s 71us/sample - loss: 0.3993 - accuracy: 0.8469 - val_loss: 0.3156 - val_accuracy: 0.9417\n",
      "Epoch 25/100\n",
      "960/960 [==============================] - 0s 46us/sample - loss: 0.3841 - accuracy: 0.8573 - val_loss: 0.3003 - val_accuracy: 0.9167\n",
      "Epoch 26/100\n",
      "960/960 [==============================] - 0s 47us/sample - loss: 0.3738 - accuracy: 0.8562 - val_loss: 0.2928 - val_accuracy: 0.9042\n",
      "Epoch 27/100\n",
      "960/960 [==============================] - 0s 66us/sample - loss: 0.3516 - accuracy: 0.8646 - val_loss: 0.2754 - val_accuracy: 0.9542\n",
      "Epoch 28/100\n",
      "960/960 [==============================] - 0s 46us/sample - loss: 0.3462 - accuracy: 0.8677 - val_loss: 0.2729 - val_accuracy: 0.9167\n",
      "Epoch 29/100\n",
      "960/960 [==============================] - 0s 44us/sample - loss: 0.3479 - accuracy: 0.8615 - val_loss: 0.2585 - val_accuracy: 0.9375\n",
      "Epoch 30/100\n",
      "960/960 [==============================] - 0s 66us/sample - loss: 0.3524 - accuracy: 0.8500 - val_loss: 0.2487 - val_accuracy: 0.9583\n",
      "Epoch 31/100\n",
      "960/960 [==============================] - 0s 48us/sample - loss: 0.3288 - accuracy: 0.8562 - val_loss: 0.2424 - val_accuracy: 0.9375\n",
      "Epoch 32/100\n",
      "960/960 [==============================] - 0s 47us/sample - loss: 0.3227 - accuracy: 0.8719 - val_loss: 0.2371 - val_accuracy: 0.9333\n",
      "Epoch 33/100\n",
      "960/960 [==============================] - 0s 56us/sample - loss: 0.3111 - accuracy: 0.8708 - val_loss: 0.2272 - val_accuracy: 0.9458\n",
      "Epoch 34/100\n",
      "960/960 [==============================] - 0s 44us/sample - loss: 0.3028 - accuracy: 0.8792 - val_loss: 0.2266 - val_accuracy: 0.9250\n",
      "Epoch 35/100\n",
      "960/960 [==============================] - 0s 65us/sample - loss: 0.2877 - accuracy: 0.8948 - val_loss: 0.2152 - val_accuracy: 0.9625\n",
      "Epoch 36/100\n",
      "960/960 [==============================] - 0s 50us/sample - loss: 0.2868 - accuracy: 0.8760 - val_loss: 0.2132 - val_accuracy: 0.9333\n",
      "Epoch 37/100\n",
      "960/960 [==============================] - 0s 48us/sample - loss: 0.2748 - accuracy: 0.8927 - val_loss: 0.2044 - val_accuracy: 0.9625\n",
      "Epoch 38/100\n",
      "960/960 [==============================] - 0s 48us/sample - loss: 0.2771 - accuracy: 0.8792 - val_loss: 0.2021 - val_accuracy: 0.9417\n",
      "Epoch 39/100\n",
      "960/960 [==============================] - 0s 69us/sample - loss: 0.2671 - accuracy: 0.8906 - val_loss: 0.1924 - val_accuracy: 0.9667\n",
      "Epoch 40/100\n",
      "960/960 [==============================] - 0s 47us/sample - loss: 0.2602 - accuracy: 0.9010 - val_loss: 0.1939 - val_accuracy: 0.9417\n",
      "Epoch 41/100\n",
      "960/960 [==============================] - 0s 48us/sample - loss: 0.2587 - accuracy: 0.9010 - val_loss: 0.1841 - val_accuracy: 0.9667\n",
      "Epoch 42/100\n",
      "960/960 [==============================] - 0s 48us/sample - loss: 0.2526 - accuracy: 0.8948 - val_loss: 0.1860 - val_accuracy: 0.9458\n",
      "Epoch 43/100\n",
      "960/960 [==============================] - 0s 47us/sample - loss: 0.2425 - accuracy: 0.9062 - val_loss: 0.1796 - val_accuracy: 0.9458\n",
      "Epoch 44/100\n",
      "960/960 [==============================] - 0s 73us/sample - loss: 0.2325 - accuracy: 0.9146 - val_loss: 0.1733 - val_accuracy: 0.9708\n",
      "Epoch 45/100\n",
      "960/960 [==============================] - 0s 49us/sample - loss: 0.2495 - accuracy: 0.8948 - val_loss: 0.1712 - val_accuracy: 0.9667\n",
      "Epoch 46/100\n",
      "960/960 [==============================] - 0s 50us/sample - loss: 0.2229 - accuracy: 0.9083 - val_loss: 0.1658 - val_accuracy: 0.9667\n",
      "Epoch 47/100\n",
      "960/960 [==============================] - 0s 49us/sample - loss: 0.2267 - accuracy: 0.9083 - val_loss: 0.1619 - val_accuracy: 0.9667\n",
      "Epoch 48/100\n",
      "960/960 [==============================] - 0s 53us/sample - loss: 0.2253 - accuracy: 0.9115 - val_loss: 0.1576 - val_accuracy: 0.9667\n",
      "Epoch 49/100\n",
      "960/960 [==============================] - 0s 48us/sample - loss: 0.2296 - accuracy: 0.9073 - val_loss: 0.1569 - val_accuracy: 0.9625\n",
      "Epoch 50/100\n",
      "960/960 [==============================] - 0s 48us/sample - loss: 0.2192 - accuracy: 0.9187 - val_loss: 0.1588 - val_accuracy: 0.9458\n",
      "Epoch 51/100\n",
      "960/960 [==============================] - 0s 45us/sample - loss: 0.2119 - accuracy: 0.9271 - val_loss: 0.1501 - val_accuracy: 0.9667\n",
      "Epoch 52/100\n",
      "960/960 [==============================] - 0s 48us/sample - loss: 0.2142 - accuracy: 0.9177 - val_loss: 0.1506 - val_accuracy: 0.9542\n",
      "Epoch 53/100\n",
      "960/960 [==============================] - 0s 49us/sample - loss: 0.2418 - accuracy: 0.8969 - val_loss: 0.1449 - val_accuracy: 0.9667\n",
      "Epoch 54/100\n",
      "960/960 [==============================] - 0s 50us/sample - loss: 0.2047 - accuracy: 0.9281 - val_loss: 0.1442 - val_accuracy: 0.9708\n",
      "Epoch 55/100\n",
      "960/960 [==============================] - 0s 45us/sample - loss: 0.2046 - accuracy: 0.9146 - val_loss: 0.1400 - val_accuracy: 0.9667\n",
      "Epoch 56/100\n"
     ]
    },
    {
     "name": "stdout",
     "output_type": "stream",
     "text": [
      "960/960 [==============================] - 0s 45us/sample - loss: 0.1942 - accuracy: 0.9250 - val_loss: 0.1424 - val_accuracy: 0.9542\n",
      "Epoch 57/100\n",
      "960/960 [==============================] - 0s 70us/sample - loss: 0.1939 - accuracy: 0.9333 - val_loss: 0.1325 - val_accuracy: 0.9750\n",
      "Epoch 58/100\n",
      "960/960 [==============================] - 0s 47us/sample - loss: 0.1948 - accuracy: 0.9344 - val_loss: 0.1353 - val_accuracy: 0.9708\n",
      "Epoch 59/100\n",
      "960/960 [==============================] - 0s 40us/sample - loss: 0.1934 - accuracy: 0.9219 - val_loss: 0.1286 - val_accuracy: 0.9708\n",
      "Epoch 60/100\n",
      "960/960 [==============================] - 0s 45us/sample - loss: 0.1895 - accuracy: 0.9292 - val_loss: 0.1379 - val_accuracy: 0.9500\n",
      "Epoch 61/100\n",
      "960/960 [==============================] - 0s 45us/sample - loss: 0.1942 - accuracy: 0.9260 - val_loss: 0.1263 - val_accuracy: 0.9750\n",
      "Epoch 62/100\n",
      "960/960 [==============================] - 0s 43us/sample - loss: 0.1835 - accuracy: 0.9312 - val_loss: 0.1285 - val_accuracy: 0.9708\n",
      "Epoch 63/100\n",
      "960/960 [==============================] - 0s 45us/sample - loss: 0.1897 - accuracy: 0.9323 - val_loss: 0.1254 - val_accuracy: 0.9708\n",
      "Epoch 64/100\n",
      "960/960 [==============================] - 0s 42us/sample - loss: 0.1934 - accuracy: 0.9240 - val_loss: 0.1227 - val_accuracy: 0.9708\n",
      "Epoch 65/100\n",
      "960/960 [==============================] - 0s 46us/sample - loss: 0.2027 - accuracy: 0.9240 - val_loss: 0.1221 - val_accuracy: 0.9708\n",
      "Epoch 66/100\n",
      "960/960 [==============================] - 0s 46us/sample - loss: 0.1969 - accuracy: 0.9187 - val_loss: 0.1187 - val_accuracy: 0.9708\n",
      "Epoch 67/100\n",
      "960/960 [==============================] - 0s 48us/sample - loss: 0.1960 - accuracy: 0.9229 - val_loss: 0.1173 - val_accuracy: 0.9750\n",
      "Epoch 68/100\n",
      "960/960 [==============================] - 0s 45us/sample - loss: 0.1874 - accuracy: 0.9250 - val_loss: 0.1201 - val_accuracy: 0.9708\n",
      "Epoch 69/100\n",
      "960/960 [==============================] - 0s 47us/sample - loss: 0.1944 - accuracy: 0.9250 - val_loss: 0.1172 - val_accuracy: 0.9750\n",
      "Epoch 70/100\n",
      "960/960 [==============================] - 0s 45us/sample - loss: 0.1738 - accuracy: 0.9333 - val_loss: 0.1177 - val_accuracy: 0.9708\n",
      "Epoch 71/100\n",
      "960/960 [==============================] - 0s 44us/sample - loss: 0.1723 - accuracy: 0.9354 - val_loss: 0.1128 - val_accuracy: 0.9750\n",
      "Epoch 72/100\n",
      "960/960 [==============================] - 0s 45us/sample - loss: 0.1902 - accuracy: 0.9167 - val_loss: 0.1201 - val_accuracy: 0.9542\n",
      "Epoch 73/100\n",
      "960/960 [==============================] - 0s 42us/sample - loss: 0.1757 - accuracy: 0.9240 - val_loss: 0.1132 - val_accuracy: 0.9708\n",
      "Epoch 74/100\n",
      "960/960 [==============================] - 0s 45us/sample - loss: 0.1679 - accuracy: 0.9385 - val_loss: 0.1104 - val_accuracy: 0.9708\n",
      "Epoch 75/100\n",
      "960/960 [==============================] - 0s 46us/sample - loss: 0.1817 - accuracy: 0.9312 - val_loss: 0.1152 - val_accuracy: 0.9625\n",
      "Epoch 76/100\n",
      "960/960 [==============================] - 0s 54us/sample - loss: 0.1816 - accuracy: 0.9260 - val_loss: 0.1065 - val_accuracy: 0.9708\n",
      "Epoch 77/100\n",
      "960/960 [==============================] - 0s 52us/sample - loss: 0.1586 - accuracy: 0.9448 - val_loss: 0.1080 - val_accuracy: 0.9708\n",
      "Epoch 78/100\n",
      "960/960 [==============================] - 0s 53us/sample - loss: 0.1624 - accuracy: 0.9375 - val_loss: 0.1083 - val_accuracy: 0.9708\n",
      "Epoch 79/100\n",
      "960/960 [==============================] - 0s 64us/sample - loss: 0.1607 - accuracy: 0.9385 - val_loss: 0.1017 - val_accuracy: 0.9792\n",
      "Epoch 80/100\n",
      "960/960 [==============================] - 0s 49us/sample - loss: 0.1581 - accuracy: 0.9438 - val_loss: 0.1009 - val_accuracy: 0.9708\n",
      "Epoch 81/100\n",
      "960/960 [==============================] - 0s 48us/sample - loss: 0.1670 - accuracy: 0.9302 - val_loss: 0.1017 - val_accuracy: 0.9708\n",
      "Epoch 82/100\n",
      "960/960 [==============================] - 0s 49us/sample - loss: 0.1559 - accuracy: 0.9427 - val_loss: 0.1016 - val_accuracy: 0.9750\n",
      "Epoch 83/100\n",
      "960/960 [==============================] - 0s 43us/sample - loss: 0.1603 - accuracy: 0.9344 - val_loss: 0.1081 - val_accuracy: 0.9625\n",
      "Epoch 84/100\n",
      "960/960 [==============================] - 0s 46us/sample - loss: 0.1776 - accuracy: 0.9271 - val_loss: 0.1015 - val_accuracy: 0.9750\n",
      "Epoch 85/100\n",
      "960/960 [==============================] - 0s 44us/sample - loss: 0.1446 - accuracy: 0.9510 - val_loss: 0.1073 - val_accuracy: 0.9625\n",
      "Epoch 86/100\n",
      "960/960 [==============================] - 0s 42us/sample - loss: 0.1536 - accuracy: 0.9458 - val_loss: 0.0975 - val_accuracy: 0.9750\n",
      "Epoch 87/100\n",
      "960/960 [==============================] - 0s 47us/sample - loss: 0.1484 - accuracy: 0.9458 - val_loss: 0.0993 - val_accuracy: 0.9708\n",
      "Epoch 88/100\n",
      "960/960 [==============================] - 0s 45us/sample - loss: 0.1545 - accuracy: 0.9438 - val_loss: 0.0960 - val_accuracy: 0.9792\n",
      "Epoch 89/100\n",
      "960/960 [==============================] - 0s 45us/sample - loss: 0.1573 - accuracy: 0.9396 - val_loss: 0.0971 - val_accuracy: 0.9708\n",
      "Epoch 90/100\n",
      "960/960 [==============================] - 0s 45us/sample - loss: 0.1578 - accuracy: 0.9417 - val_loss: 0.0976 - val_accuracy: 0.9750\n",
      "Epoch 91/100\n",
      "960/960 [==============================] - 0s 42us/sample - loss: 0.1410 - accuracy: 0.9500 - val_loss: 0.0929 - val_accuracy: 0.9750\n",
      "Epoch 92/100\n",
      "960/960 [==============================] - 0s 46us/sample - loss: 0.1579 - accuracy: 0.9385 - val_loss: 0.0937 - val_accuracy: 0.9708\n",
      "Epoch 93/100\n",
      "960/960 [==============================] - 0s 45us/sample - loss: 0.1535 - accuracy: 0.9427 - val_loss: 0.0931 - val_accuracy: 0.9750\n",
      "Epoch 94/100\n",
      "960/960 [==============================] - 0s 41us/sample - loss: 0.1575 - accuracy: 0.9406 - val_loss: 0.0951 - val_accuracy: 0.9750\n",
      "Epoch 95/100\n",
      "960/960 [==============================] - 0s 45us/sample - loss: 0.1456 - accuracy: 0.9427 - val_loss: 0.0958 - val_accuracy: 0.9750\n",
      "Epoch 96/100\n",
      "960/960 [==============================] - 0s 41us/sample - loss: 0.1592 - accuracy: 0.9375 - val_loss: 0.0967 - val_accuracy: 0.9750\n",
      "Epoch 97/100\n",
      "960/960 [==============================] - 0s 47us/sample - loss: 0.1317 - accuracy: 0.9531 - val_loss: 0.0932 - val_accuracy: 0.9792\n",
      "Epoch 98/100\n",
      "960/960 [==============================] - 0s 44us/sample - loss: 0.1360 - accuracy: 0.9521 - val_loss: 0.0915 - val_accuracy: 0.9708\n",
      "Epoch 99/100\n",
      "960/960 [==============================] - 0s 44us/sample - loss: 0.1482 - accuracy: 0.9406 - val_loss: 0.0896 - val_accuracy: 0.9708\n",
      "Epoch 100/100\n",
      "960/960 [==============================] - 0s 44us/sample - loss: 0.1454 - accuracy: 0.9458 - val_loss: 0.0898 - val_accuracy: 0.9750\n"
     ]
    },
    {
     "data": {
      "text/plain": [
       "<tensorflow.python.keras.callbacks.History at 0x258bfc98ac8>"
      ]
     },
     "execution_count": 15,
     "metadata": {},
     "output_type": "execute_result"
    }
   ],
   "source": [
    "#定义dnn网络结构\n",
    "model = Sequential()\n",
    "model.add(Dense(32, input_shape=(10,)))\n",
    "model.add(Activation('relu'))\n",
    "model.add(Dropout(0.1))\n",
    "model.add(Dense(16))\n",
    "model.add(Activation('relu'))\n",
    "model.add(Dropout(0.1))\n",
    "model.add(Dense(6))\n",
    "model.add(Activation('softmax'))\n",
    "#设置loss函数、优化器等\n",
    "model.compile(loss=\"sparse_categorical_crossentropy\",optimizer = tf.keras.optimizers.Adam(),metrics = [\"accuracy\"])\n",
    "#训练模型\n",
    "model.fit(X_train, Y_train, epochs=100, batch_size=64,shuffle=True,\n",
    "          validation_data=(X_test,Y_test),callbacks=callbacks,verbose=1)"
   ]
  },
  {
   "cell_type": "code",
   "execution_count": 16,
   "metadata": {
    "ExecuteTime": {
     "end_time": "2020-08-17T07:21:07.973240Z",
     "start_time": "2020-08-17T07:21:07.150423Z"
    },
    "scrolled": true
   },
   "outputs": [],
   "source": [
    "#加载训练好的模型\n",
    "model = keras.models.load_model(output_model_file)"
   ]
  },
  {
   "cell_type": "code",
   "execution_count": 17,
   "metadata": {
    "ExecuteTime": {
     "end_time": "2020-08-17T04:15:11.771725Z",
     "start_time": "2020-08-17T04:15:09.635874Z"
    }
   },
   "outputs": [
    {
     "data": {
      "text/plain": [
       "array([[0, 0, 0, ..., 0, 0, 0],\n",
       "       [0, 0, 0, ..., 0, 0, 0],\n",
       "       [0, 0, 0, ..., 0, 0, 0],\n",
       "       ...,\n",
       "       [0, 0, 0, ..., 0, 0, 0],\n",
       "       [0, 0, 0, ..., 0, 0, 0],\n",
       "       [0, 0, 0, ..., 0, 0, 0]], dtype=int32)"
      ]
     },
     "execution_count": 17,
     "metadata": {},
     "output_type": "execute_result"
    }
   ],
   "source": [
    "#读取测试图片\n",
    "jan_img = np.reshape(io.imread('./6June/Junemask.tif'),(-1,13))\n",
    "jan_img"
   ]
  },
  {
   "cell_type": "code",
   "execution_count": 18,
   "metadata": {},
   "outputs": [],
   "source": [
    "h,w,c = io.imread('./6June/Junemask.tif').shape"
   ]
  },
  {
   "cell_type": "code",
   "execution_count": 19,
   "metadata": {},
   "outputs": [],
   "source": [
    "jan_img_b2_b8 = jan_img[:,1:8]"
   ]
  },
  {
   "cell_type": "code",
   "execution_count": 20,
   "metadata": {
    "ExecuteTime": {
     "end_time": "2020-08-17T04:17:55.242540Z",
     "start_time": "2020-08-17T04:17:54.802204Z"
    }
   },
   "outputs": [
    {
     "name": "stderr",
     "output_type": "stream",
     "text": [
      "C:\\Anaconda3\\lib\\site-packages\\ipykernel_launcher.py:2: RuntimeWarning: invalid value encountered in true_divide\n",
      "  \n",
      "C:\\Anaconda3\\lib\\site-packages\\ipykernel_launcher.py:3: RuntimeWarning: invalid value encountered in true_divide\n",
      "  This is separate from the ipykernel package so we can avoid doing imports until\n",
      "C:\\Anaconda3\\lib\\site-packages\\ipykernel_launcher.py:4: RuntimeWarning: invalid value encountered in true_divide\n",
      "  after removing the cwd from sys.path.\n"
     ]
    }
   ],
   "source": [
    "#测试图片数据预处理\n",
    "ndd = jan_img[:,3]/jan_img[:,7]\n",
    "ndsi = (jan_img[:,2]-jan_img[:,11])/(jan_img[:,2]+jan_img[:,11])\n",
    "ndvi = (jan_img[:,7]-jan_img[:,3])/(jan_img[:,7]+jan_img[:,3])\n",
    "jan_test_data = np.c_[jan_img_b2_b8,ndd,ndsi,ndvi]/np.concatenate((jan_train.iloc[:,1:8].max().values,jan_train.iloc[:,9:12].max().values))"
   ]
  },
  {
   "cell_type": "code",
   "execution_count": null,
   "metadata": {
    "ExecuteTime": {
     "end_time": "2020-08-17T07:29:35.796763Z",
     "start_time": "2020-08-17T07:29:17.417002Z"
    }
   },
   "outputs": [
    {
     "name": "stderr",
     "output_type": "stream",
     "text": [
      "  0%|          | 34251/9929820 [16:32<99:42:45, 27.57it/s]  "
     ]
    }
   ],
   "source": [
    "#预测结果\n",
    "pred = []\n",
    "invalid_data = []\n",
    "valid_data = []\n",
    "for i in tqdm(range(len(jan_img))):\n",
    "    if jan_test_data[i][0] == 0 or jan_test_data[i][0] == -1:\n",
    "        pred.append(-1)\n",
    "    else:\n",
    "        pred.append(model.predict(jan_test_data[i][np.newaxis,::]).argmax())"
   ]
  },
  {
   "cell_type": "code",
   "execution_count": null,
   "metadata": {
    "ExecuteTime": {
     "end_time": "2020-08-17T06:52:59.562663Z",
     "start_time": "2020-08-17T06:52:57.474688Z"
    }
   },
   "outputs": [],
   "source": [
    "#设置不同label的颜色\n",
    "colour = []\n",
    "for r in [0,255]:\n",
    "    for g in [0,255]:\n",
    "        for b in [0,255]:\n",
    "            colour.append([r,g,b])\n",
    "\n",
    "colour"
   ]
  },
  {
   "cell_type": "code",
   "execution_count": null,
   "metadata": {
    "ExecuteTime": {
     "end_time": "2020-08-17T07:28:14.524493Z",
     "start_time": "2020-08-17T07:28:14.518510Z"
    }
   },
   "outputs": [],
   "source": [
    "# 将预测的 0-5 标签，转化为相应的颜色，并reshape\n",
    "pred_map = []\n",
    "for j in pred:\n",
    "    pred_map.append(colour[j+1])\n",
    "    \n",
    "pred_map = np.array(pred_map).reshape((h,w,3)).astype(np.uint8)"
   ]
  },
  {
   "cell_type": "code",
   "execution_count": 8,
   "metadata": {
    "ExecuteTime": {
     "end_time": "2020-08-17T04:27:15.700918Z",
     "start_time": "2020-08-17T04:27:10.971947Z"
    }
   },
   "outputs": [
    {
     "ename": "NameError",
     "evalue": "name 'pred_map' is not defined",
     "output_type": "error",
     "traceback": [
      "\u001b[1;31m---------------------------------------------------------------------------\u001b[0m",
      "\u001b[1;31mNameError\u001b[0m                                 Traceback (most recent call last)",
      "\u001b[1;32m<ipython-input-8-046eeabd4f82>\u001b[0m in \u001b[0;36m<module>\u001b[1;34m\u001b[0m\n\u001b[0;32m      2\u001b[0m \u001b[1;32mimport\u001b[0m \u001b[0mmatplotlib\u001b[0m\u001b[1;33m.\u001b[0m\u001b[0mpyplot\u001b[0m \u001b[1;32mas\u001b[0m \u001b[0mplt\u001b[0m\u001b[1;33m\u001b[0m\u001b[1;33m\u001b[0m\u001b[0m\n\u001b[0;32m      3\u001b[0m \u001b[0mget_ipython\u001b[0m\u001b[1;33m(\u001b[0m\u001b[1;33m)\u001b[0m\u001b[1;33m.\u001b[0m\u001b[0mrun_line_magic\u001b[0m\u001b[1;33m(\u001b[0m\u001b[1;34m'matplotlib'\u001b[0m\u001b[1;33m,\u001b[0m \u001b[1;34m'inline'\u001b[0m\u001b[1;33m)\u001b[0m\u001b[1;33m\u001b[0m\u001b[1;33m\u001b[0m\u001b[0m\n\u001b[1;32m----> 4\u001b[1;33m \u001b[0mplt\u001b[0m\u001b[1;33m.\u001b[0m\u001b[0mimshow\u001b[0m\u001b[1;33m(\u001b[0m\u001b[0mpred_map\u001b[0m\u001b[1;33m)\u001b[0m\u001b[1;33m\u001b[0m\u001b[1;33m\u001b[0m\u001b[0m\n\u001b[0m\u001b[0;32m      5\u001b[0m \u001b[0mplt\u001b[0m\u001b[1;33m.\u001b[0m\u001b[0mcolorbar\u001b[0m\u001b[1;33m(\u001b[0m\u001b[1;33m)\u001b[0m\u001b[1;33m\u001b[0m\u001b[1;33m\u001b[0m\u001b[0m\n\u001b[0;32m      6\u001b[0m \u001b[0mplt\u001b[0m\u001b[1;33m.\u001b[0m\u001b[0mshow\u001b[0m\u001b[1;33m(\u001b[0m\u001b[1;33m)\u001b[0m\u001b[1;33m\u001b[0m\u001b[1;33m\u001b[0m\u001b[0m\n",
      "\u001b[1;31mNameError\u001b[0m: name 'pred_map' is not defined"
     ]
    }
   ],
   "source": [
    "# 画图\n",
    "import matplotlib.pyplot as plt\n",
    "%matplotlib inline\n",
    "plt.imshow(pred_map)\n",
    "plt.colorbar()\n",
    "plt.show()"
   ]
  },
  {
   "cell_type": "code",
   "execution_count": 9,
   "metadata": {
    "ExecuteTime": {
     "end_time": "2020-08-17T04:28:11.566338Z",
     "start_time": "2020-08-17T04:28:11.559357Z"
    }
   },
   "outputs": [
    {
     "ename": "NameError",
     "evalue": "name 'pred_map' is not defined",
     "output_type": "error",
     "traceback": [
      "\u001b[1;31m---------------------------------------------------------------------------\u001b[0m",
      "\u001b[1;31mNameError\u001b[0m                                 Traceback (most recent call last)",
      "\u001b[1;32m<ipython-input-9-9f81691ea093>\u001b[0m in \u001b[0;36m<module>\u001b[1;34m\u001b[0m\n\u001b[0;32m      1\u001b[0m \u001b[1;31m#保存图片\u001b[0m\u001b[1;33m\u001b[0m\u001b[1;33m\u001b[0m\u001b[1;33m\u001b[0m\u001b[0m\n\u001b[0;32m      2\u001b[0m \u001b[1;32mfrom\u001b[0m \u001b[0mPIL\u001b[0m \u001b[1;32mimport\u001b[0m \u001b[0mImage\u001b[0m\u001b[1;33m\u001b[0m\u001b[1;33m\u001b[0m\u001b[0m\n\u001b[1;32m----> 3\u001b[1;33m \u001b[0mImage\u001b[0m\u001b[1;33m.\u001b[0m\u001b[0mfromarray\u001b[0m\u001b[1;33m(\u001b[0m\u001b[0mpred_map\u001b[0m\u001b[1;33m)\u001b[0m\u001b[1;33m.\u001b[0m\u001b[0msave\u001b[0m\u001b[1;33m(\u001b[0m\u001b[1;34m'jun_img.jpg'\u001b[0m\u001b[1;33m)\u001b[0m\u001b[1;33m\u001b[0m\u001b[1;33m\u001b[0m\u001b[0m\n\u001b[0m",
      "\u001b[1;31mNameError\u001b[0m: name 'pred_map' is not defined"
     ]
    }
   ],
   "source": [
    "#保存图片\n",
    "from PIL import Image\n",
    "Image.fromarray(pred_map).save('jun_img.jpg')"
   ]
  },
  {
   "cell_type": "code",
   "execution_count": null,
   "metadata": {},
   "outputs": [],
   "source": []
  },
  {
   "cell_type": "code",
   "execution_count": null,
   "metadata": {},
   "outputs": [],
   "source": []
  }
 ],
 "metadata": {
  "kernelspec": {
   "display_name": "Python 3",
   "language": "python",
   "name": "python3"
  },
  "language_info": {
   "codemirror_mode": {
    "name": "ipython",
    "version": 3
   },
   "file_extension": ".py",
   "mimetype": "text/x-python",
   "name": "python",
   "nbconvert_exporter": "python",
   "pygments_lexer": "ipython3",
   "version": "3.7.7"
  }
 },
 "nbformat": 4,
 "nbformat_minor": 2
}
