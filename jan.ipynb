{
 "cells": [
  {
   "cell_type": "code",
   "execution_count": 1,
   "metadata": {
    "ExecuteTime": {
     "end_time": "2020-08-17T07:24:40.951356Z",
     "start_time": "2020-08-17T07:24:40.919442Z"
    },
    "scrolled": true
   },
   "outputs": [],
   "source": [
    "# import modules\n",
    "import pandas as pd\n",
    "from tensorflow.keras import metrics\n",
    "import tensorflow.keras.backend as K\n",
    "from tensorflow import keras\n",
    "from tensorflow.keras.models import Sequential\n",
    "from tensorflow.keras.layers import Dense, Activation, Dropout\n",
    "from tensorflow.keras.optimizers import Adam\n",
    "import tensorflow as tf\n",
    "import numpy as np\n",
    "import os\n",
    "from skimage import io\n",
    "from tqdm import tqdm"
   ]
  },
  {
   "cell_type": "code",
   "execution_count": 2,
   "metadata": {},
   "outputs": [],
   "source": [
    "# # set GPU\n",
    "# gpus = tf.config.experimental.list_physical_devices('GPU')\n",
    "# tf.config.experimental.set_visible_devices(gpus[0], 'GPU')\n",
    "# for gpu in gpus:\n",
    "#     tf.config.experimental.set_memory_growth(gpu, True)\n",
    "# print(len(gpus))\n",
    "# logical_gpus = tf.config.experimental.list_logical_devices('GPU')\n",
    "# print(len(logical_gpus))"
   ]
  },
  {
   "cell_type": "code",
   "execution_count": 3,
   "metadata": {
    "ExecuteTime": {
     "end_time": "2020-08-17T06:57:14.071545Z",
     "start_time": "2020-08-17T06:57:14.058580Z"
    }
   },
   "outputs": [],
   "source": [
    "# read data\n",
    "jan_train = pd.read_csv('./TrainingNew/trainingJanNum1.csv')"
   ]
  },
  {
   "cell_type": "code",
   "execution_count": 4,
   "metadata": {
    "ExecuteTime": {
     "end_time": "2020-08-17T03:55:48.955376Z",
     "start_time": "2020-08-17T03:55:48.937425Z"
    }
   },
   "outputs": [],
   "source": [
    "#数据归一化\n",
    "jan_train_x = pd.concat([jan_train.iloc[:,1:8]/jan_train.iloc[:,1:8].max(),\n",
    "                         jan_train.iloc[:,9:12]/jan_train.iloc[:,9:12].max()],axis=1,join='inner').values\n",
    "jan_train_y = jan_train.landcover.values"
   ]
  },
  {
   "cell_type": "code",
   "execution_count": 5,
   "metadata": {
    "ExecuteTime": {
     "end_time": "2020-08-17T03:50:21.921176Z",
     "start_time": "2020-08-17T03:50:21.910205Z"
    }
   },
   "outputs": [
    {
     "name": "stdout",
     "output_type": "stream",
     "text": [
      "831 208\n"
     ]
    }
   ],
   "source": [
    "#划分数据集\n",
    "from sklearn.model_selection import train_test_split\n",
    "X_train,X_test,Y_train,Y_test = train_test_split(jan_train_x, jan_train_y, test_size=0.2, random_state=3)\n",
    "print(len(X_train), len(X_test))"
   ]
  },
  {
   "cell_type": "code",
   "execution_count": 6,
   "metadata": {
    "ExecuteTime": {
     "end_time": "2020-08-17T07:21:04.425655Z",
     "start_time": "2020-08-17T07:21:04.416679Z"
    },
    "code_folding": []
   },
   "outputs": [],
   "source": [
    "#设置训练模型相关内容，详情见 https://keras.io/zh/callbacks/\n",
    "logdir = os.path.join(\"model\")\n",
    "if not os.path.exists(logdir):\n",
    "    os.mkdir(logdir)\n",
    "output_model_file = os.path.join(logdir,\"model.h5\")\n",
    "\n",
    "callbacks = [\n",
    "    keras.callbacks.TensorBoard(logdir),\n",
    "    keras.callbacks.ModelCheckpoint(output_model_file,monitor='val_accuracy',save_best_only = True,save_weights_only = False),\n",
    "    keras.callbacks.EarlyStopping(monitor='val_accuracy', patience=100, min_delta=1e-7),\n",
    "]"
   ]
  },
  {
   "cell_type": "code",
   "execution_count": null,
   "metadata": {
    "ExecuteTime": {
     "end_time": "2020-08-17T03:57:14.589139Z",
     "start_time": "2020-08-17T03:57:14.583156Z"
    }
   },
   "outputs": [],
   "source": []
  },
  {
   "cell_type": "code",
   "execution_count": 7,
   "metadata": {
    "ExecuteTime": {
     "end_time": "2020-08-17T03:57:37.255760Z",
     "start_time": "2020-08-17T03:57:30.928485Z"
    },
    "scrolled": true
   },
   "outputs": [
    {
     "name": "stdout",
     "output_type": "stream",
     "text": [
      "Train on 831 samples, validate on 208 samples\n",
      "Epoch 1/100\n",
      "831/831 [==============================] - 1s 909us/sample - loss: 1.7761 - accuracy: 0.2900 - val_loss: 1.7010 - val_accuracy: 0.4808\n",
      "Epoch 2/100\n",
      "831/831 [==============================] - 0s 61us/sample - loss: 1.6953 - accuracy: 0.4140 - val_loss: 1.6288 - val_accuracy: 0.4760\n",
      "Epoch 3/100\n",
      "831/831 [==============================] - 0s 80us/sample - loss: 1.6223 - accuracy: 0.4428 - val_loss: 1.5478 - val_accuracy: 0.4712\n",
      "Epoch 4/100\n",
      "831/831 [==============================] - 0s 83us/sample - loss: 1.5477 - accuracy: 0.4669 - val_loss: 1.4620 - val_accuracy: 0.5481\n",
      "Epoch 5/100\n",
      "831/831 [==============================] - 0s 85us/sample - loss: 1.4635 - accuracy: 0.5078 - val_loss: 1.3644 - val_accuracy: 0.5625\n",
      "Epoch 6/100\n",
      "831/831 [==============================] - 0s 96us/sample - loss: 1.3809 - accuracy: 0.5018 - val_loss: 1.2684 - val_accuracy: 0.6875\n",
      "Epoch 7/100\n",
      "831/831 [==============================] - 0s 73us/sample - loss: 1.2762 - accuracy: 0.5283 - val_loss: 1.1722 - val_accuracy: 0.6875\n",
      "Epoch 8/100\n",
      "831/831 [==============================] - 0s 68us/sample - loss: 1.1794 - accuracy: 0.5884 - val_loss: 1.0846 - val_accuracy: 0.6731\n",
      "Epoch 9/100\n",
      "831/831 [==============================] - 0s 61us/sample - loss: 1.1025 - accuracy: 0.5969 - val_loss: 1.0056 - val_accuracy: 0.6779\n",
      "Epoch 10/100\n",
      "831/831 [==============================] - 0s 58us/sample - loss: 1.0266 - accuracy: 0.6053 - val_loss: 0.9394 - val_accuracy: 0.6731\n",
      "Epoch 11/100\n",
      "831/831 [==============================] - 0s 50us/sample - loss: 0.9826 - accuracy: 0.5921 - val_loss: 0.8891 - val_accuracy: 0.6731\n",
      "Epoch 12/100\n",
      "831/831 [==============================] - 0s 50us/sample - loss: 0.9303 - accuracy: 0.6113 - val_loss: 0.8531 - val_accuracy: 0.6587\n",
      "Epoch 13/100\n",
      "831/831 [==============================] - 0s 61us/sample - loss: 0.9031 - accuracy: 0.6149 - val_loss: 0.8207 - val_accuracy: 0.6779\n",
      "Epoch 14/100\n",
      "831/831 [==============================] - 0s 74us/sample - loss: 0.8583 - accuracy: 0.6233 - val_loss: 0.7987 - val_accuracy: 0.7067\n",
      "Epoch 15/100\n",
      "831/831 [==============================] - 0s 55us/sample - loss: 0.8328 - accuracy: 0.6270 - val_loss: 0.7697 - val_accuracy: 0.6827\n",
      "Epoch 16/100\n",
      "831/831 [==============================] - 0s 55us/sample - loss: 0.8127 - accuracy: 0.6173 - val_loss: 0.7512 - val_accuracy: 0.6827\n",
      "Epoch 17/100\n",
      "831/831 [==============================] - 0s 53us/sample - loss: 0.8065 - accuracy: 0.6294 - val_loss: 0.7423 - val_accuracy: 0.7019\n",
      "Epoch 18/100\n",
      "831/831 [==============================] - 0s 53us/sample - loss: 0.7928 - accuracy: 0.6294 - val_loss: 0.7256 - val_accuracy: 0.6875\n",
      "Epoch 19/100\n",
      "831/831 [==============================] - 0s 80us/sample - loss: 0.7835 - accuracy: 0.6378 - val_loss: 0.7120 - val_accuracy: 0.7115\n",
      "Epoch 20/100\n",
      "831/831 [==============================] - 0s 78us/sample - loss: 0.7634 - accuracy: 0.6474 - val_loss: 0.7014 - val_accuracy: 0.7212\n",
      "Epoch 21/100\n",
      "831/831 [==============================] - 0s 52us/sample - loss: 0.7408 - accuracy: 0.6703 - val_loss: 0.6852 - val_accuracy: 0.7019\n",
      "Epoch 22/100\n",
      "831/831 [==============================] - 0s 48us/sample - loss: 0.7270 - accuracy: 0.6691 - val_loss: 0.6725 - val_accuracy: 0.6971\n",
      "Epoch 23/100\n",
      "831/831 [==============================] - 0s 77us/sample - loss: 0.7082 - accuracy: 0.6703 - val_loss: 0.6671 - val_accuracy: 0.7260\n",
      "Epoch 24/100\n",
      "831/831 [==============================] - 0s 55us/sample - loss: 0.7087 - accuracy: 0.6631 - val_loss: 0.6575 - val_accuracy: 0.7115\n",
      "Epoch 25/100\n",
      "831/831 [==============================] - 0s 77us/sample - loss: 0.7116 - accuracy: 0.6594 - val_loss: 0.6528 - val_accuracy: 0.7356\n",
      "Epoch 26/100\n",
      "831/831 [==============================] - 0s 59us/sample - loss: 0.6881 - accuracy: 0.6799 - val_loss: 0.6445 - val_accuracy: 0.7212\n",
      "Epoch 27/100\n",
      "831/831 [==============================] - 0s 51us/sample - loss: 0.6765 - accuracy: 0.6799 - val_loss: 0.6417 - val_accuracy: 0.7356\n",
      "Epoch 28/100\n",
      "831/831 [==============================] - 0s 53us/sample - loss: 0.6790 - accuracy: 0.6739 - val_loss: 0.6369 - val_accuracy: 0.7308\n",
      "Epoch 29/100\n",
      "831/831 [==============================] - 0s 53us/sample - loss: 0.6672 - accuracy: 0.6859 - val_loss: 0.6329 - val_accuracy: 0.7356\n",
      "Epoch 30/100\n",
      "831/831 [==============================] - 0s 61us/sample - loss: 0.6637 - accuracy: 0.6787 - val_loss: 0.6252 - val_accuracy: 0.7115\n",
      "Epoch 31/100\n",
      "831/831 [==============================] - 0s 58us/sample - loss: 0.6475 - accuracy: 0.7100 - val_loss: 0.6215 - val_accuracy: 0.7212\n",
      "Epoch 32/100\n",
      "831/831 [==============================] - 0s 60us/sample - loss: 0.6477 - accuracy: 0.6907 - val_loss: 0.6176 - val_accuracy: 0.7163\n",
      "Epoch 33/100\n",
      "831/831 [==============================] - 0s 55us/sample - loss: 0.6430 - accuracy: 0.6968 - val_loss: 0.6164 - val_accuracy: 0.7356\n",
      "Epoch 34/100\n",
      "831/831 [==============================] - 0s 82us/sample - loss: 0.6463 - accuracy: 0.6992 - val_loss: 0.6147 - val_accuracy: 0.7404\n",
      "Epoch 35/100\n",
      "831/831 [==============================] - 0s 60us/sample - loss: 0.6355 - accuracy: 0.6835 - val_loss: 0.6118 - val_accuracy: 0.7356\n",
      "Epoch 36/100\n",
      "831/831 [==============================] - 0s 53us/sample - loss: 0.6336 - accuracy: 0.6955 - val_loss: 0.6074 - val_accuracy: 0.7163\n",
      "Epoch 37/100\n",
      "831/831 [==============================] - 0s 50us/sample - loss: 0.6115 - accuracy: 0.7304 - val_loss: 0.6083 - val_accuracy: 0.7212\n",
      "Epoch 38/100\n",
      "831/831 [==============================] - 0s 54us/sample - loss: 0.6378 - accuracy: 0.6715 - val_loss: 0.6014 - val_accuracy: 0.7163\n",
      "Epoch 39/100\n",
      "831/831 [==============================] - 0s 55us/sample - loss: 0.6128 - accuracy: 0.7052 - val_loss: 0.6021 - val_accuracy: 0.7212\n",
      "Epoch 40/100\n",
      "831/831 [==============================] - 0s 53us/sample - loss: 0.6137 - accuracy: 0.7160 - val_loss: 0.6064 - val_accuracy: 0.7356\n",
      "Epoch 41/100\n",
      "831/831 [==============================] - 0s 53us/sample - loss: 0.6319 - accuracy: 0.6787 - val_loss: 0.5995 - val_accuracy: 0.7163\n",
      "Epoch 42/100\n",
      "831/831 [==============================] - 0s 54us/sample - loss: 0.6231 - accuracy: 0.7052 - val_loss: 0.6027 - val_accuracy: 0.7356\n",
      "Epoch 43/100\n",
      "831/831 [==============================] - ETA: 0s - loss: 0.5734 - accuracy: 0.73 - 0s 59us/sample - loss: 0.6059 - accuracy: 0.7124 - val_loss: 0.5961 - val_accuracy: 0.7115\n",
      "Epoch 44/100\n",
      "831/831 [==============================] - 0s 56us/sample - loss: 0.6085 - accuracy: 0.7112 - val_loss: 0.5945 - val_accuracy: 0.7260\n",
      "Epoch 45/100\n",
      "831/831 [==============================] - 0s 54us/sample - loss: 0.6062 - accuracy: 0.7016 - val_loss: 0.5928 - val_accuracy: 0.7163\n",
      "Epoch 46/100\n",
      "831/831 [==============================] - 0s 52us/sample - loss: 0.6174 - accuracy: 0.7136 - val_loss: 0.5940 - val_accuracy: 0.7260\n",
      "Epoch 47/100\n",
      "831/831 [==============================] - 0s 53us/sample - loss: 0.6031 - accuracy: 0.7004 - val_loss: 0.5894 - val_accuracy: 0.7212\n",
      "Epoch 48/100\n",
      "831/831 [==============================] - 0s 55us/sample - loss: 0.6156 - accuracy: 0.6931 - val_loss: 0.5892 - val_accuracy: 0.7260\n",
      "Epoch 49/100\n",
      "831/831 [==============================] - 0s 54us/sample - loss: 0.6024 - accuracy: 0.7004 - val_loss: 0.5887 - val_accuracy: 0.7212\n",
      "Epoch 50/100\n",
      "831/831 [==============================] - 0s 49us/sample - loss: 0.6022 - accuracy: 0.7136 - val_loss: 0.5858 - val_accuracy: 0.7260\n",
      "Epoch 51/100\n",
      "831/831 [==============================] - 0s 56us/sample - loss: 0.6040 - accuracy: 0.7076 - val_loss: 0.5845 - val_accuracy: 0.7212\n",
      "Epoch 52/100\n",
      "831/831 [==============================] - 0s 55us/sample - loss: 0.6005 - accuracy: 0.6955 - val_loss: 0.5858 - val_accuracy: 0.7212\n",
      "Epoch 53/100\n",
      "831/831 [==============================] - 0s 55us/sample - loss: 0.5864 - accuracy: 0.7088 - val_loss: 0.5797 - val_accuracy: 0.7163\n",
      "Epoch 54/100\n",
      "831/831 [==============================] - 0s 50us/sample - loss: 0.5865 - accuracy: 0.7329 - val_loss: 0.5822 - val_accuracy: 0.7260\n",
      "Epoch 55/100\n",
      "831/831 [==============================] - 0s 52us/sample - loss: 0.5888 - accuracy: 0.7136 - val_loss: 0.5812 - val_accuracy: 0.7260\n",
      "Epoch 56/100\n",
      "831/831 [==============================] - 0s 60us/sample - loss: 0.5962 - accuracy: 0.7256 - val_loss: 0.5855 - val_accuracy: 0.7356\n",
      "Epoch 57/100\n",
      "831/831 [==============================] - 0s 60us/sample - loss: 0.5884 - accuracy: 0.7148 - val_loss: 0.5798 - val_accuracy: 0.7260\n",
      "Epoch 58/100\n",
      "831/831 [==============================] - 0s 53us/sample - loss: 0.5975 - accuracy: 0.7100 - val_loss: 0.5796 - val_accuracy: 0.7260\n",
      "Epoch 59/100\n",
      "831/831 [==============================] - 0s 50us/sample - loss: 0.5878 - accuracy: 0.7160 - val_loss: 0.5766 - val_accuracy: 0.7212\n",
      "Epoch 60/100\n",
      "831/831 [==============================] - 0s 65us/sample - loss: 0.5924 - accuracy: 0.7100 - val_loss: 0.5724 - val_accuracy: 0.7115\n",
      "Epoch 61/100\n",
      "831/831 [==============================] - 0s 70us/sample - loss: 0.5844 - accuracy: 0.7196 - val_loss: 0.5721 - val_accuracy: 0.7212\n",
      "Epoch 62/100\n",
      "831/831 [==============================] - 0s 56us/sample - loss: 0.5747 - accuracy: 0.7184 - val_loss: 0.5693 - val_accuracy: 0.7212\n",
      "Epoch 63/100\n",
      "831/831 [==============================] - 0s 58us/sample - loss: 0.5992 - accuracy: 0.7076 - val_loss: 0.5717 - val_accuracy: 0.7212\n",
      "Epoch 64/100\n",
      "831/831 [==============================] - 0s 55us/sample - loss: 0.5755 - accuracy: 0.7292 - val_loss: 0.5667 - val_accuracy: 0.7163\n",
      "Epoch 65/100\n",
      "831/831 [==============================] - 0s 60us/sample - loss: 0.5812 - accuracy: 0.7160 - val_loss: 0.5615 - val_accuracy: 0.7163\n",
      "Epoch 66/100\n",
      "831/831 [==============================] - 0s 67us/sample - loss: 0.5782 - accuracy: 0.7244 - val_loss: 0.5646 - val_accuracy: 0.7212\n",
      "Epoch 67/100\n",
      "831/831 [==============================] - 0s 66us/sample - loss: 0.5678 - accuracy: 0.7353 - val_loss: 0.5628 - val_accuracy: 0.7163\n",
      "Epoch 68/100\n",
      "831/831 [==============================] - 0s 62us/sample - loss: 0.5852 - accuracy: 0.7208 - val_loss: 0.5617 - val_accuracy: 0.7308\n",
      "Epoch 69/100\n",
      "831/831 [==============================] - 0s 66us/sample - loss: 0.5825 - accuracy: 0.6883 - val_loss: 0.5636 - val_accuracy: 0.7260\n",
      "Epoch 70/100\n",
      "831/831 [==============================] - 0s 64us/sample - loss: 0.5705 - accuracy: 0.7329 - val_loss: 0.5657 - val_accuracy: 0.7308\n",
      "Epoch 71/100\n",
      "831/831 [==============================] - 0s 55us/sample - loss: 0.5704 - accuracy: 0.7160 - val_loss: 0.5667 - val_accuracy: 0.7260\n",
      "Epoch 72/100\n",
      "831/831 [==============================] - 0s 60us/sample - loss: 0.5645 - accuracy: 0.7341 - val_loss: 0.5568 - val_accuracy: 0.7115\n",
      "Epoch 73/100\n",
      "831/831 [==============================] - 0s 58us/sample - loss: 0.5689 - accuracy: 0.7064 - val_loss: 0.5544 - val_accuracy: 0.7212\n",
      "Epoch 74/100\n",
      "831/831 [==============================] - 0s 54us/sample - loss: 0.5664 - accuracy: 0.7112 - val_loss: 0.5546 - val_accuracy: 0.7163\n",
      "Epoch 75/100\n",
      "831/831 [==============================] - 0s 54us/sample - loss: 0.5590 - accuracy: 0.7377 - val_loss: 0.5474 - val_accuracy: 0.7212\n",
      "Epoch 76/100\n",
      "831/831 [==============================] - 0s 53us/sample - loss: 0.5567 - accuracy: 0.7280 - val_loss: 0.5478 - val_accuracy: 0.7115\n",
      "Epoch 77/100\n",
      "831/831 [==============================] - 0s 54us/sample - loss: 0.5628 - accuracy: 0.7244 - val_loss: 0.5492 - val_accuracy: 0.7260\n",
      "Epoch 78/100\n",
      "831/831 [==============================] - 0s 58us/sample - loss: 0.5612 - accuracy: 0.7377 - val_loss: 0.5524 - val_accuracy: 0.7260\n",
      "Epoch 79/100\n",
      "831/831 [==============================] - 0s 56us/sample - loss: 0.5567 - accuracy: 0.7353 - val_loss: 0.5462 - val_accuracy: 0.7308\n",
      "Epoch 80/100\n",
      "831/831 [==============================] - 0s 58us/sample - loss: 0.5534 - accuracy: 0.7268 - val_loss: 0.5463 - val_accuracy: 0.7308\n",
      "Epoch 81/100\n",
      "831/831 [==============================] - 0s 56us/sample - loss: 0.5659 - accuracy: 0.7280 - val_loss: 0.5439 - val_accuracy: 0.7308\n",
      "Epoch 82/100\n",
      "831/831 [==============================] - 0s 47us/sample - loss: 0.5511 - accuracy: 0.7341 - val_loss: 0.5424 - val_accuracy: 0.7356\n",
      "Epoch 83/100\n",
      "831/831 [==============================] - 0s 50us/sample - loss: 0.5536 - accuracy: 0.7485 - val_loss: 0.5395 - val_accuracy: 0.7212\n",
      "Epoch 84/100\n",
      "831/831 [==============================] - 0s 55us/sample - loss: 0.5578 - accuracy: 0.7184 - val_loss: 0.5459 - val_accuracy: 0.7356\n",
      "Epoch 85/100\n",
      "831/831 [==============================] - 0s 53us/sample - loss: 0.5476 - accuracy: 0.7533 - val_loss: 0.5452 - val_accuracy: 0.7308\n",
      "Epoch 86/100\n",
      "831/831 [==============================] - 0s 53us/sample - loss: 0.5505 - accuracy: 0.7425 - val_loss: 0.5366 - val_accuracy: 0.7308\n",
      "Epoch 87/100\n",
      "831/831 [==============================] - 0s 79us/sample - loss: 0.5529 - accuracy: 0.7172 - val_loss: 0.5284 - val_accuracy: 0.7452\n",
      "Epoch 88/100\n",
      "831/831 [==============================] - 0s 60us/sample - loss: 0.5394 - accuracy: 0.7557 - val_loss: 0.5302 - val_accuracy: 0.7404\n",
      "Epoch 89/100\n",
      "831/831 [==============================] - 0s 59us/sample - loss: 0.5521 - accuracy: 0.7172 - val_loss: 0.5353 - val_accuracy: 0.7163\n",
      "Epoch 90/100\n",
      "831/831 [==============================] - 0s 45us/sample - loss: 0.5368 - accuracy: 0.7329 - val_loss: 0.5311 - val_accuracy: 0.7356\n",
      "Epoch 91/100\n",
      "831/831 [==============================] - 0s 50us/sample - loss: 0.5393 - accuracy: 0.7304 - val_loss: 0.5293 - val_accuracy: 0.7404\n",
      "Epoch 92/100\n",
      "831/831 [==============================] - 0s 50us/sample - loss: 0.5385 - accuracy: 0.7413 - val_loss: 0.5264 - val_accuracy: 0.7452\n",
      "Epoch 93/100\n",
      "831/831 [==============================] - 0s 54us/sample - loss: 0.5370 - accuracy: 0.7497 - val_loss: 0.5310 - val_accuracy: 0.7452\n",
      "Epoch 94/100\n",
      "831/831 [==============================] - 0s 77us/sample - loss: 0.5412 - accuracy: 0.7292 - val_loss: 0.5253 - val_accuracy: 0.7500\n",
      "Epoch 95/100\n",
      "831/831 [==============================] - 0s 56us/sample - loss: 0.5449 - accuracy: 0.7220 - val_loss: 0.5303 - val_accuracy: 0.7452\n",
      "Epoch 96/100\n",
      "831/831 [==============================] - 0s 84us/sample - loss: 0.5354 - accuracy: 0.7413 - val_loss: 0.5325 - val_accuracy: 0.7596\n",
      "Epoch 97/100\n",
      "831/831 [==============================] - 0s 58us/sample - loss: 0.5408 - accuracy: 0.7304 - val_loss: 0.5229 - val_accuracy: 0.7500\n",
      "Epoch 98/100\n",
      "831/831 [==============================] - 0s 62us/sample - loss: 0.5296 - accuracy: 0.7473 - val_loss: 0.5170 - val_accuracy: 0.7500\n",
      "Epoch 99/100\n",
      "831/831 [==============================] - 0s 66us/sample - loss: 0.5389 - accuracy: 0.7268 - val_loss: 0.5153 - val_accuracy: 0.7500\n",
      "Epoch 100/100\n",
      "831/831 [==============================] - 0s 53us/sample - loss: 0.5379 - accuracy: 0.7316 - val_loss: 0.5180 - val_accuracy: 0.7500\n"
     ]
    },
    {
     "data": {
      "text/plain": [
       "<tensorflow.python.keras.callbacks.History at 0x11bd3e21b08>"
      ]
     },
     "execution_count": 7,
     "metadata": {},
     "output_type": "execute_result"
    }
   ],
   "source": [
    "#定义dnn网络结构\n",
    "model = Sequential()\n",
    "model.add(Dense(32, input_shape=(10,)))\n",
    "model.add(Activation('relu'))\n",
    "model.add(Dropout(0.1))\n",
    "model.add(Dense(16))\n",
    "model.add(Activation('relu'))\n",
    "model.add(Dropout(0.1))\n",
    "model.add(Dense(6))\n",
    "model.add(Activation('softmax'))\n",
    "#设置loss函数、优化器等\n",
    "model.compile(loss=\"sparse_categorical_crossentropy\",optimizer = tf.keras.optimizers.Adam(),metrics = [\"accuracy\"])\n",
    "#训练模型\n",
    "model.fit(X_train, Y_train, epochs=100, batch_size=64,shuffle=True,\n",
    "          validation_data=(X_test,Y_test),callbacks=callbacks,verbose=1)"
   ]
  },
  {
   "cell_type": "code",
   "execution_count": 8,
   "metadata": {
    "ExecuteTime": {
     "end_time": "2020-08-17T07:21:07.973240Z",
     "start_time": "2020-08-17T07:21:07.150423Z"
    },
    "scrolled": true
   },
   "outputs": [],
   "source": [
    "#加载训练好的模型\n",
    "model = keras.models.load_model(output_model_file)"
   ]
  },
  {
   "cell_type": "code",
   "execution_count": 9,
   "metadata": {
    "ExecuteTime": {
     "end_time": "2020-08-17T04:15:11.771725Z",
     "start_time": "2020-08-17T04:15:09.635874Z"
    }
   },
   "outputs": [
    {
     "data": {
      "text/plain": [
       "array([[0, 0, 0, ..., 0, 0, 0],\n",
       "       [0, 0, 0, ..., 0, 0, 0],\n",
       "       [0, 0, 0, ..., 0, 0, 0],\n",
       "       ...,\n",
       "       [0, 0, 0, ..., 0, 0, 0],\n",
       "       [0, 0, 0, ..., 0, 0, 0],\n",
       "       [0, 0, 0, ..., 0, 0, 0]], dtype=int32)"
      ]
     },
     "execution_count": 9,
     "metadata": {},
     "output_type": "execute_result"
    }
   ],
   "source": [
    "#读取测试图片\n",
    "jan_img = np.reshape(io.imread('./1January/Januarymask.tif'),(-1,13))\n",
    "jan_img"
   ]
  },
  {
   "cell_type": "code",
   "execution_count": 10,
   "metadata": {},
   "outputs": [],
   "source": [
    "h,w,c = io.imread('./1January/Januarymask.tif').shape"
   ]
  },
  {
   "cell_type": "code",
   "execution_count": 11,
   "metadata": {},
   "outputs": [],
   "source": [
    "jan_img_b2_b8 = jan_img[:,1:8]\n"
   ]
  },
  {
   "cell_type": "code",
   "execution_count": 12,
   "metadata": {
    "ExecuteTime": {
     "end_time": "2020-08-17T04:17:55.242540Z",
     "start_time": "2020-08-17T04:17:54.802204Z"
    }
   },
   "outputs": [
    {
     "name": "stderr",
     "output_type": "stream",
     "text": [
      "C:\\Anaconda3\\lib\\site-packages\\ipykernel_launcher.py:2: RuntimeWarning: invalid value encountered in true_divide\n",
      "  \n",
      "C:\\Anaconda3\\lib\\site-packages\\ipykernel_launcher.py:3: RuntimeWarning: invalid value encountered in true_divide\n",
      "  This is separate from the ipykernel package so we can avoid doing imports until\n",
      "C:\\Anaconda3\\lib\\site-packages\\ipykernel_launcher.py:4: RuntimeWarning: invalid value encountered in true_divide\n",
      "  after removing the cwd from sys.path.\n"
     ]
    }
   ],
   "source": [
    "#测试图片数据预处理\n",
    "ndd = jan_img[:,3]/jan_img[:,7]\n",
    "ndsi = (jan_img[:,2]-jan_img[:,11])/(jan_img[:,2]+jan_img[:,11])\n",
    "ndvi = (jan_img[:,7]-jan_img[:,3])/(jan_img[:,7]+jan_img[:,3])\n",
    "jan_test_data = np.c_[jan_img_b2_b8,ndd,ndsi,ndvi]/np.concatenate((jan_train.iloc[:,1:8].max().values,jan_train.iloc[:,9:12].max().values))"
   ]
  },
  {
   "cell_type": "code",
   "execution_count": 13,
   "metadata": {
    "ExecuteTime": {
     "end_time": "2020-08-17T07:29:35.796763Z",
     "start_time": "2020-08-17T07:29:17.417002Z"
    }
   },
   "outputs": [
    {
     "name": "stderr",
     "output_type": "stream",
     "text": [
      "  0%|          | 18175/9929820 [06:47<61:43:54, 44.60it/s] \n"
     ]
    },
    {
     "ename": "KeyboardInterrupt",
     "evalue": "",
     "output_type": "error",
     "traceback": [
      "\u001b[1;31m---------------------------------------------------------------------------\u001b[0m",
      "\u001b[1;31mKeyboardInterrupt\u001b[0m                         Traceback (most recent call last)",
      "\u001b[1;32m<ipython-input-13-b716bfb02189>\u001b[0m in \u001b[0;36m<module>\u001b[1;34m\u001b[0m\n\u001b[0;32m      7\u001b[0m         \u001b[0mpred\u001b[0m\u001b[1;33m.\u001b[0m\u001b[0mappend\u001b[0m\u001b[1;33m(\u001b[0m\u001b[1;33m-\u001b[0m\u001b[1;36m1\u001b[0m\u001b[1;33m)\u001b[0m\u001b[1;33m\u001b[0m\u001b[1;33m\u001b[0m\u001b[0m\n\u001b[0;32m      8\u001b[0m     \u001b[1;32melse\u001b[0m\u001b[1;33m:\u001b[0m\u001b[1;33m\u001b[0m\u001b[1;33m\u001b[0m\u001b[0m\n\u001b[1;32m----> 9\u001b[1;33m         \u001b[0mpred\u001b[0m\u001b[1;33m.\u001b[0m\u001b[0mappend\u001b[0m\u001b[1;33m(\u001b[0m\u001b[0mmodel\u001b[0m\u001b[1;33m.\u001b[0m\u001b[0mpredict\u001b[0m\u001b[1;33m(\u001b[0m\u001b[0mjan_test_data\u001b[0m\u001b[1;33m[\u001b[0m\u001b[0mi\u001b[0m\u001b[1;33m]\u001b[0m\u001b[1;33m[\u001b[0m\u001b[0mnp\u001b[0m\u001b[1;33m.\u001b[0m\u001b[0mnewaxis\u001b[0m\u001b[1;33m,\u001b[0m\u001b[1;33m:\u001b[0m\u001b[1;33m:\u001b[0m\u001b[1;33m]\u001b[0m\u001b[1;33m)\u001b[0m\u001b[1;33m.\u001b[0m\u001b[0margmax\u001b[0m\u001b[1;33m(\u001b[0m\u001b[1;33m)\u001b[0m\u001b[1;33m)\u001b[0m\u001b[1;33m\u001b[0m\u001b[1;33m\u001b[0m\u001b[0m\n\u001b[0m",
      "\u001b[1;32mC:\\Anaconda3\\lib\\site-packages\\tensorflow_core\\python\\keras\\engine\\training.py\u001b[0m in \u001b[0;36mpredict\u001b[1;34m(self, x, batch_size, verbose, steps, callbacks, max_queue_size, workers, use_multiprocessing)\u001b[0m\n\u001b[0;32m    907\u001b[0m         \u001b[0mmax_queue_size\u001b[0m\u001b[1;33m=\u001b[0m\u001b[0mmax_queue_size\u001b[0m\u001b[1;33m,\u001b[0m\u001b[1;33m\u001b[0m\u001b[1;33m\u001b[0m\u001b[0m\n\u001b[0;32m    908\u001b[0m         \u001b[0mworkers\u001b[0m\u001b[1;33m=\u001b[0m\u001b[0mworkers\u001b[0m\u001b[1;33m,\u001b[0m\u001b[1;33m\u001b[0m\u001b[1;33m\u001b[0m\u001b[0m\n\u001b[1;32m--> 909\u001b[1;33m         use_multiprocessing=use_multiprocessing)\n\u001b[0m\u001b[0;32m    910\u001b[0m \u001b[1;33m\u001b[0m\u001b[0m\n\u001b[0;32m    911\u001b[0m   \u001b[1;32mdef\u001b[0m \u001b[0mreset_metrics\u001b[0m\u001b[1;33m(\u001b[0m\u001b[0mself\u001b[0m\u001b[1;33m)\u001b[0m\u001b[1;33m:\u001b[0m\u001b[1;33m\u001b[0m\u001b[1;33m\u001b[0m\u001b[0m\n",
      "\u001b[1;32mC:\\Anaconda3\\lib\\site-packages\\tensorflow_core\\python\\keras\\engine\\training_v2.py\u001b[0m in \u001b[0;36mpredict\u001b[1;34m(self, model, x, batch_size, verbose, steps, callbacks, **kwargs)\u001b[0m\n\u001b[0;32m    460\u001b[0m     return self._model_iteration(\n\u001b[0;32m    461\u001b[0m         \u001b[0mmodel\u001b[0m\u001b[1;33m,\u001b[0m \u001b[0mModeKeys\u001b[0m\u001b[1;33m.\u001b[0m\u001b[0mPREDICT\u001b[0m\u001b[1;33m,\u001b[0m \u001b[0mx\u001b[0m\u001b[1;33m=\u001b[0m\u001b[0mx\u001b[0m\u001b[1;33m,\u001b[0m \u001b[0mbatch_size\u001b[0m\u001b[1;33m=\u001b[0m\u001b[0mbatch_size\u001b[0m\u001b[1;33m,\u001b[0m \u001b[0mverbose\u001b[0m\u001b[1;33m=\u001b[0m\u001b[0mverbose\u001b[0m\u001b[1;33m,\u001b[0m\u001b[1;33m\u001b[0m\u001b[1;33m\u001b[0m\u001b[0m\n\u001b[1;32m--> 462\u001b[1;33m         steps=steps, callbacks=callbacks, **kwargs)\n\u001b[0m\u001b[0;32m    463\u001b[0m \u001b[1;33m\u001b[0m\u001b[0m\n\u001b[0;32m    464\u001b[0m \u001b[1;33m\u001b[0m\u001b[0m\n",
      "\u001b[1;32mC:\\Anaconda3\\lib\\site-packages\\tensorflow_core\\python\\keras\\engine\\training_v2.py\u001b[0m in \u001b[0;36m_model_iteration\u001b[1;34m(self, model, mode, x, y, batch_size, verbose, sample_weight, steps, callbacks, **kwargs)\u001b[0m\n\u001b[0;32m    394\u001b[0m           \u001b[0msample_weights\u001b[0m\u001b[1;33m=\u001b[0m\u001b[0msample_weight\u001b[0m\u001b[1;33m,\u001b[0m\u001b[1;33m\u001b[0m\u001b[1;33m\u001b[0m\u001b[0m\n\u001b[0;32m    395\u001b[0m           \u001b[0msteps\u001b[0m\u001b[1;33m=\u001b[0m\u001b[0msteps\u001b[0m\u001b[1;33m,\u001b[0m\u001b[1;33m\u001b[0m\u001b[1;33m\u001b[0m\u001b[0m\n\u001b[1;32m--> 396\u001b[1;33m           distribution_strategy=strategy)\n\u001b[0m\u001b[0;32m    397\u001b[0m       \u001b[0mtotal_samples\u001b[0m \u001b[1;33m=\u001b[0m \u001b[0m_get_total_number_of_samples\u001b[0m\u001b[1;33m(\u001b[0m\u001b[0madapter\u001b[0m\u001b[1;33m)\u001b[0m\u001b[1;33m\u001b[0m\u001b[1;33m\u001b[0m\u001b[0m\n\u001b[0;32m    398\u001b[0m       \u001b[0muse_sample\u001b[0m \u001b[1;33m=\u001b[0m \u001b[0mtotal_samples\u001b[0m \u001b[1;32mis\u001b[0m \u001b[1;32mnot\u001b[0m \u001b[1;32mNone\u001b[0m\u001b[1;33m\u001b[0m\u001b[1;33m\u001b[0m\u001b[0m\n",
      "\u001b[1;32mC:\\Anaconda3\\lib\\site-packages\\tensorflow_core\\python\\keras\\engine\\training_v2.py\u001b[0m in \u001b[0;36m_process_inputs\u001b[1;34m(model, x, y, batch_size, epochs, sample_weights, class_weights, shuffle, steps, distribution_strategy, max_queue_size, workers, use_multiprocessing)\u001b[0m\n\u001b[0;32m    604\u001b[0m       \u001b[0mmax_queue_size\u001b[0m\u001b[1;33m=\u001b[0m\u001b[0mmax_queue_size\u001b[0m\u001b[1;33m,\u001b[0m\u001b[1;33m\u001b[0m\u001b[1;33m\u001b[0m\u001b[0m\n\u001b[0;32m    605\u001b[0m       \u001b[0mworkers\u001b[0m\u001b[1;33m=\u001b[0m\u001b[0mworkers\u001b[0m\u001b[1;33m,\u001b[0m\u001b[1;33m\u001b[0m\u001b[1;33m\u001b[0m\u001b[0m\n\u001b[1;32m--> 606\u001b[1;33m       use_multiprocessing=use_multiprocessing)\n\u001b[0m\u001b[0;32m    607\u001b[0m   \u001b[1;31m# As a fallback for the data type that does not work with\u001b[0m\u001b[1;33m\u001b[0m\u001b[1;33m\u001b[0m\u001b[1;33m\u001b[0m\u001b[0m\n\u001b[0;32m    608\u001b[0m   \u001b[1;31m# _standardize_user_data, use the _prepare_model_with_inputs.\u001b[0m\u001b[1;33m\u001b[0m\u001b[1;33m\u001b[0m\u001b[1;33m\u001b[0m\u001b[0m\n",
      "\u001b[1;32mC:\\Anaconda3\\lib\\site-packages\\tensorflow_core\\python\\keras\\engine\\data_adapter.py\u001b[0m in \u001b[0;36m__init__\u001b[1;34m(self, x, y, sample_weights, batch_size, epochs, steps, shuffle, **kwargs)\u001b[0m\n\u001b[0;32m    316\u001b[0m       \u001b[1;32mreturn\u001b[0m \u001b[0mflat_dataset\u001b[0m\u001b[1;33m\u001b[0m\u001b[1;33m\u001b[0m\u001b[0m\n\u001b[0;32m    317\u001b[0m \u001b[1;33m\u001b[0m\u001b[0m\n\u001b[1;32m--> 318\u001b[1;33m     \u001b[0mindices_dataset\u001b[0m \u001b[1;33m=\u001b[0m \u001b[0mindices_dataset\u001b[0m\u001b[1;33m.\u001b[0m\u001b[0mflat_map\u001b[0m\u001b[1;33m(\u001b[0m\u001b[0mslice_batch_indices\u001b[0m\u001b[1;33m)\u001b[0m\u001b[1;33m\u001b[0m\u001b[1;33m\u001b[0m\u001b[0m\n\u001b[0m\u001b[0;32m    319\u001b[0m     dataset = dataset_ops.DatasetV2.zip((\n\u001b[0;32m    320\u001b[0m         \u001b[0mindices_dataset\u001b[0m\u001b[1;33m,\u001b[0m\u001b[1;33m\u001b[0m\u001b[1;33m\u001b[0m\u001b[0m\n",
      "\u001b[1;32mC:\\Anaconda3\\lib\\site-packages\\tensorflow_core\\python\\data\\ops\\dataset_ops.py\u001b[0m in \u001b[0;36mflat_map\u001b[1;34m(self, map_func)\u001b[0m\n\u001b[0;32m   1238\u001b[0m       \u001b[0mDataset\u001b[0m\u001b[1;33m:\u001b[0m \u001b[0mA\u001b[0m\u001b[0;31m \u001b[0m\u001b[0;31m`\u001b[0m\u001b[0mDataset\u001b[0m\u001b[0;31m`\u001b[0m\u001b[1;33m.\u001b[0m\u001b[1;33m\u001b[0m\u001b[1;33m\u001b[0m\u001b[0m\n\u001b[0;32m   1239\u001b[0m     \"\"\"\n\u001b[1;32m-> 1240\u001b[1;33m     \u001b[1;32mreturn\u001b[0m \u001b[0mFlatMapDataset\u001b[0m\u001b[1;33m(\u001b[0m\u001b[0mself\u001b[0m\u001b[1;33m,\u001b[0m \u001b[0mmap_func\u001b[0m\u001b[1;33m)\u001b[0m\u001b[1;33m\u001b[0m\u001b[1;33m\u001b[0m\u001b[0m\n\u001b[0m\u001b[0;32m   1241\u001b[0m \u001b[1;33m\u001b[0m\u001b[0m\n\u001b[0;32m   1242\u001b[0m   def interleave(self,\n",
      "\u001b[1;32mC:\\Anaconda3\\lib\\site-packages\\tensorflow_core\\python\\data\\ops\\dataset_ops.py\u001b[0m in \u001b[0;36m__init__\u001b[1;34m(self, input_dataset, map_func)\u001b[0m\n\u001b[0;32m   3494\u001b[0m         \u001b[0mself\u001b[0m\u001b[1;33m.\u001b[0m\u001b[0m_map_func\u001b[0m\u001b[1;33m.\u001b[0m\u001b[0mfunction\u001b[0m\u001b[1;33m.\u001b[0m\u001b[0mcaptured_inputs\u001b[0m\u001b[1;33m,\u001b[0m\u001b[1;33m\u001b[0m\u001b[1;33m\u001b[0m\u001b[0m\n\u001b[0;32m   3495\u001b[0m         \u001b[0mf\u001b[0m\u001b[1;33m=\u001b[0m\u001b[0mself\u001b[0m\u001b[1;33m.\u001b[0m\u001b[0m_map_func\u001b[0m\u001b[1;33m.\u001b[0m\u001b[0mfunction\u001b[0m\u001b[1;33m,\u001b[0m\u001b[1;33m\u001b[0m\u001b[1;33m\u001b[0m\u001b[0m\n\u001b[1;32m-> 3496\u001b[1;33m         **self._flat_structure)\n\u001b[0m\u001b[0;32m   3497\u001b[0m     \u001b[0msuper\u001b[0m\u001b[1;33m(\u001b[0m\u001b[0mFlatMapDataset\u001b[0m\u001b[1;33m,\u001b[0m \u001b[0mself\u001b[0m\u001b[1;33m)\u001b[0m\u001b[1;33m.\u001b[0m\u001b[0m__init__\u001b[0m\u001b[1;33m(\u001b[0m\u001b[0minput_dataset\u001b[0m\u001b[1;33m,\u001b[0m \u001b[0mvariant_tensor\u001b[0m\u001b[1;33m)\u001b[0m\u001b[1;33m\u001b[0m\u001b[1;33m\u001b[0m\u001b[0m\n\u001b[0;32m   3498\u001b[0m \u001b[1;33m\u001b[0m\u001b[0m\n",
      "\u001b[1;32mC:\\Anaconda3\\lib\\site-packages\\tensorflow_core\\python\\ops\\gen_dataset_ops.py\u001b[0m in \u001b[0;36mflat_map_dataset\u001b[1;34m(input_dataset, other_arguments, f, output_types, output_shapes, name)\u001b[0m\n\u001b[0;32m   1842\u001b[0m         \u001b[1;34m\"FlatMapDataset\"\u001b[0m\u001b[1;33m,\u001b[0m \u001b[0mname\u001b[0m\u001b[1;33m,\u001b[0m \u001b[0m_ctx\u001b[0m\u001b[1;33m.\u001b[0m\u001b[0m_post_execution_callbacks\u001b[0m\u001b[1;33m,\u001b[0m \u001b[0minput_dataset\u001b[0m\u001b[1;33m,\u001b[0m\u001b[1;33m\u001b[0m\u001b[1;33m\u001b[0m\u001b[0m\n\u001b[0;32m   1843\u001b[0m         \u001b[0mother_arguments\u001b[0m\u001b[1;33m,\u001b[0m \u001b[1;34m\"f\"\u001b[0m\u001b[1;33m,\u001b[0m \u001b[0mf\u001b[0m\u001b[1;33m,\u001b[0m \u001b[1;34m\"output_types\"\u001b[0m\u001b[1;33m,\u001b[0m \u001b[0moutput_types\u001b[0m\u001b[1;33m,\u001b[0m\u001b[1;33m\u001b[0m\u001b[1;33m\u001b[0m\u001b[0m\n\u001b[1;32m-> 1844\u001b[1;33m         \"output_shapes\", output_shapes)\n\u001b[0m\u001b[0;32m   1845\u001b[0m       \u001b[1;32mreturn\u001b[0m \u001b[0m_result\u001b[0m\u001b[1;33m\u001b[0m\u001b[1;33m\u001b[0m\u001b[0m\n\u001b[0;32m   1846\u001b[0m     \u001b[1;32mexcept\u001b[0m \u001b[0m_core\u001b[0m\u001b[1;33m.\u001b[0m\u001b[0m_FallbackException\u001b[0m\u001b[1;33m:\u001b[0m\u001b[1;33m\u001b[0m\u001b[1;33m\u001b[0m\u001b[0m\n",
      "\u001b[1;31mKeyboardInterrupt\u001b[0m: "
     ]
    }
   ],
   "source": [
    "#预测结果\n",
    "pred = []\n",
    "invalid_data = []\n",
    "valid_data = []\n",
    "for i in tqdm(range(len(jan_img))):\n",
    "    if jan_test_data[i][0] == 0 or jan_test_data[i][0] == -1:\n",
    "        pred.append(-1)\n",
    "    else:\n",
    "        pred.append(model.predict(jan_test_data[i][np.newaxis,::]).argmax())"
   ]
  },
  {
   "cell_type": "code",
   "execution_count": 43,
   "metadata": {
    "ExecuteTime": {
     "end_time": "2020-08-17T06:52:59.562663Z",
     "start_time": "2020-08-17T06:52:57.474688Z"
    }
   },
   "outputs": [
    {
     "data": {
      "text/plain": [
       "[[0, 0, 0],\n",
       " [0, 0, 255],\n",
       " [0, 255, 0],\n",
       " [0, 255, 255],\n",
       " [255, 0, 0],\n",
       " [255, 0, 255],\n",
       " [255, 255, 0],\n",
       " [255, 255, 255]]"
      ]
     },
     "execution_count": 43,
     "metadata": {},
     "output_type": "execute_result"
    }
   ],
   "source": [
    "#设置不同label的颜色\n",
    "colour = []\n",
    "for r in [0,255]:\n",
    "    for g in [0,255]:\n",
    "        for b in [0,255]:\n",
    "            colour.append([r,g,b])\n",
    "\n",
    "colour"
   ]
  },
  {
   "cell_type": "code",
   "execution_count": 39,
   "metadata": {
    "ExecuteTime": {
     "end_time": "2020-08-17T07:28:14.524493Z",
     "start_time": "2020-08-17T07:28:14.518510Z"
    }
   },
   "outputs": [],
   "source": [
    "# 将预测的 0-5 标签，转化为相应的颜色，并reshape\n",
    "pred_map = []\n",
    "for j in pred:\n",
    "    pred_map.append(colour[j+1])\n",
    "    \n",
    "pred_map = np.array(pred_map).reshape((h,w,3)).astype(np.uint8)"
   ]
  },
  {
   "cell_type": "code",
   "execution_count": 41,
   "metadata": {
    "ExecuteTime": {
     "end_time": "2020-08-17T04:27:15.700918Z",
     "start_time": "2020-08-17T04:27:10.971947Z"
    }
   },
   "outputs": [
    {
     "data": {
      "image/png": "[encoded data removed]",
      "text/plain": [
       "<Figure size 432x288 with 2 Axes>"
      ]
     },
     "metadata": {
      "needs_background": "light"
     },
     "output_type": "display_data"
    }
   ],
   "source": [
    "# 画图\n",
    "import matplotlib.pyplot as plt\n",
    "%matplotlib inline\n",
    "plt.imshow(pred_map)\n",
    "plt.colorbar()\n",
    "plt.show()"
   ]
  },
  {
   "cell_type": "code",
   "execution_count": 44,
   "metadata": {
    "ExecuteTime": {
     "end_time": "2020-08-17T04:28:11.566338Z",
     "start_time": "2020-08-17T04:28:11.559357Z"
    }
   },
   "outputs": [],
   "source": [
    "#保存图片\n",
    "from PIL import Image\n",
    "Image.fromarray(pred_map).save('jan_img.jpg')"
   ]
  },
  {
   "cell_type": "code",
   "execution_count": null,
   "metadata": {},
   "outputs": [],
   "source": []
  },
  {
   "cell_type": "code",
   "execution_count": null,
   "metadata": {},
   "outputs": [],
   "source": []
  }
 ],
 "metadata": {
  "kernelspec": {
   "display_name": "Python 3",
   "language": "python",
   "name": "python3"
  },
  "language_info": {
   "codemirror_mode": {
    "name": "ipython",
    "version": 3
   },
   "file_extension": ".py",
   "mimetype": "text/x-python",
   "name": "python",
   "nbconvert_exporter": "python",
   "pygments_lexer": "ipython3",
   "version": "3.7.7"
  }
 },
 "nbformat": 4,
 "nbformat_minor": 2
}
